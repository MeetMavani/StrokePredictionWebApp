{
 "cells": [
  {
   "cell_type": "code",
   "execution_count": 121,
   "metadata": {},
   "outputs": [],
   "source": [
    "import pandas as pd\n",
    "import numpy as np\n",
    "import seaborn as sns\n",
    "import matplotlib.pyplot as plt\n",
    "\n",
    "%matplotlib inline\n",
    "\n",
    "import warnings\n",
    "warnings.filterwarnings('ignore')"
   ]
  },
  {
   "cell_type": "code",
   "execution_count": 122,
   "metadata": {},
   "outputs": [],
   "source": [
    "data = pd.read_csv('data.csv')"
   ]
  },
  {
   "cell_type": "code",
   "execution_count": 123,
   "metadata": {},
   "outputs": [
    {
     "data": {
      "text/html": [
       "<div>\n",
       "<style scoped>\n",
       "    .dataframe tbody tr th:only-of-type {\n",
       "        vertical-align: middle;\n",
       "    }\n",
       "\n",
       "    .dataframe tbody tr th {\n",
       "        vertical-align: top;\n",
       "    }\n",
       "\n",
       "    .dataframe thead th {\n",
       "        text-align: right;\n",
       "    }\n",
       "</style>\n",
       "<table border=\"1\" class=\"dataframe\">\n",
       "  <thead>\n",
       "    <tr style=\"text-align: right;\">\n",
       "      <th></th>\n",
       "      <th>id</th>\n",
       "      <th>gender</th>\n",
       "      <th>age</th>\n",
       "      <th>hypertension</th>\n",
       "      <th>heart_disease</th>\n",
       "      <th>ever_married</th>\n",
       "      <th>work_type</th>\n",
       "      <th>Residence_type</th>\n",
       "      <th>avg_glucose_level</th>\n",
       "      <th>bmi</th>\n",
       "      <th>smoking_status</th>\n",
       "      <th>stroke</th>\n",
       "    </tr>\n",
       "  </thead>\n",
       "  <tbody>\n",
       "    <tr>\n",
       "      <th>0</th>\n",
       "      <td>9046</td>\n",
       "      <td>Male</td>\n",
       "      <td>67.0</td>\n",
       "      <td>0</td>\n",
       "      <td>1</td>\n",
       "      <td>Yes</td>\n",
       "      <td>Private</td>\n",
       "      <td>Urban</td>\n",
       "      <td>228.69</td>\n",
       "      <td>36.6</td>\n",
       "      <td>formerly smoked</td>\n",
       "      <td>1</td>\n",
       "    </tr>\n",
       "    <tr>\n",
       "      <th>1</th>\n",
       "      <td>51676</td>\n",
       "      <td>Female</td>\n",
       "      <td>61.0</td>\n",
       "      <td>0</td>\n",
       "      <td>0</td>\n",
       "      <td>Yes</td>\n",
       "      <td>Self-employed</td>\n",
       "      <td>Rural</td>\n",
       "      <td>202.21</td>\n",
       "      <td>NaN</td>\n",
       "      <td>never smoked</td>\n",
       "      <td>1</td>\n",
       "    </tr>\n",
       "    <tr>\n",
       "      <th>2</th>\n",
       "      <td>31112</td>\n",
       "      <td>Male</td>\n",
       "      <td>80.0</td>\n",
       "      <td>0</td>\n",
       "      <td>1</td>\n",
       "      <td>Yes</td>\n",
       "      <td>Private</td>\n",
       "      <td>Rural</td>\n",
       "      <td>105.92</td>\n",
       "      <td>32.5</td>\n",
       "      <td>never smoked</td>\n",
       "      <td>1</td>\n",
       "    </tr>\n",
       "    <tr>\n",
       "      <th>3</th>\n",
       "      <td>60182</td>\n",
       "      <td>Female</td>\n",
       "      <td>49.0</td>\n",
       "      <td>0</td>\n",
       "      <td>0</td>\n",
       "      <td>Yes</td>\n",
       "      <td>Private</td>\n",
       "      <td>Urban</td>\n",
       "      <td>171.23</td>\n",
       "      <td>34.4</td>\n",
       "      <td>smokes</td>\n",
       "      <td>1</td>\n",
       "    </tr>\n",
       "    <tr>\n",
       "      <th>4</th>\n",
       "      <td>1665</td>\n",
       "      <td>Female</td>\n",
       "      <td>79.0</td>\n",
       "      <td>1</td>\n",
       "      <td>0</td>\n",
       "      <td>Yes</td>\n",
       "      <td>Self-employed</td>\n",
       "      <td>Rural</td>\n",
       "      <td>174.12</td>\n",
       "      <td>24.0</td>\n",
       "      <td>never smoked</td>\n",
       "      <td>1</td>\n",
       "    </tr>\n",
       "  </tbody>\n",
       "</table>\n",
       "</div>"
      ],
      "text/plain": [
       "      id  gender   age  hypertension  heart_disease ever_married  \\\n",
       "0   9046    Male  67.0             0              1          Yes   \n",
       "1  51676  Female  61.0             0              0          Yes   \n",
       "2  31112    Male  80.0             0              1          Yes   \n",
       "3  60182  Female  49.0             0              0          Yes   \n",
       "4   1665  Female  79.0             1              0          Yes   \n",
       "\n",
       "       work_type Residence_type  avg_glucose_level   bmi   smoking_status  \\\n",
       "0        Private          Urban             228.69  36.6  formerly smoked   \n",
       "1  Self-employed          Rural             202.21   NaN     never smoked   \n",
       "2        Private          Rural             105.92  32.5     never smoked   \n",
       "3        Private          Urban             171.23  34.4           smokes   \n",
       "4  Self-employed          Rural             174.12  24.0     never smoked   \n",
       "\n",
       "   stroke  \n",
       "0       1  \n",
       "1       1  \n",
       "2       1  \n",
       "3       1  \n",
       "4       1  "
      ]
     },
     "execution_count": 123,
     "metadata": {},
     "output_type": "execute_result"
    }
   ],
   "source": [
    "data.head()"
   ]
  },
  {
   "cell_type": "code",
   "execution_count": 124,
   "metadata": {},
   "outputs": [],
   "source": [
    "## Dropped unnecessary columns\n",
    "\n",
    "data.drop(['id'],axis=1,inplace=True)"
   ]
  },
  {
   "cell_type": "code",
   "execution_count": 125,
   "metadata": {},
   "outputs": [],
   "source": [
    "## Converted Heat_disease and hypertension in yes or no format.\n",
    "\n",
    "data['hypertension'] = data['hypertension'].map({0:'No',1:'Yes'})\n",
    "data['heart_disease'] = data['heart_disease'].map({0:'No',1:'Yes'})"
   ]
  },
  {
   "cell_type": "code",
   "execution_count": 126,
   "metadata": {},
   "outputs": [
    {
     "data": {
      "text/html": [
       "<div>\n",
       "<style scoped>\n",
       "    .dataframe tbody tr th:only-of-type {\n",
       "        vertical-align: middle;\n",
       "    }\n",
       "\n",
       "    .dataframe tbody tr th {\n",
       "        vertical-align: top;\n",
       "    }\n",
       "\n",
       "    .dataframe thead th {\n",
       "        text-align: right;\n",
       "    }\n",
       "</style>\n",
       "<table border=\"1\" class=\"dataframe\">\n",
       "  <thead>\n",
       "    <tr style=\"text-align: right;\">\n",
       "      <th></th>\n",
       "      <th>gender</th>\n",
       "      <th>age</th>\n",
       "      <th>hypertension</th>\n",
       "      <th>heart_disease</th>\n",
       "      <th>ever_married</th>\n",
       "      <th>work_type</th>\n",
       "      <th>Residence_type</th>\n",
       "      <th>avg_glucose_level</th>\n",
       "      <th>bmi</th>\n",
       "      <th>smoking_status</th>\n",
       "      <th>stroke</th>\n",
       "    </tr>\n",
       "  </thead>\n",
       "  <tbody>\n",
       "    <tr>\n",
       "      <th>0</th>\n",
       "      <td>Male</td>\n",
       "      <td>67.0</td>\n",
       "      <td>No</td>\n",
       "      <td>Yes</td>\n",
       "      <td>Yes</td>\n",
       "      <td>Private</td>\n",
       "      <td>Urban</td>\n",
       "      <td>228.69</td>\n",
       "      <td>36.6</td>\n",
       "      <td>formerly smoked</td>\n",
       "      <td>1</td>\n",
       "    </tr>\n",
       "    <tr>\n",
       "      <th>1</th>\n",
       "      <td>Female</td>\n",
       "      <td>61.0</td>\n",
       "      <td>No</td>\n",
       "      <td>No</td>\n",
       "      <td>Yes</td>\n",
       "      <td>Self-employed</td>\n",
       "      <td>Rural</td>\n",
       "      <td>202.21</td>\n",
       "      <td>NaN</td>\n",
       "      <td>never smoked</td>\n",
       "      <td>1</td>\n",
       "    </tr>\n",
       "    <tr>\n",
       "      <th>2</th>\n",
       "      <td>Male</td>\n",
       "      <td>80.0</td>\n",
       "      <td>No</td>\n",
       "      <td>Yes</td>\n",
       "      <td>Yes</td>\n",
       "      <td>Private</td>\n",
       "      <td>Rural</td>\n",
       "      <td>105.92</td>\n",
       "      <td>32.5</td>\n",
       "      <td>never smoked</td>\n",
       "      <td>1</td>\n",
       "    </tr>\n",
       "    <tr>\n",
       "      <th>3</th>\n",
       "      <td>Female</td>\n",
       "      <td>49.0</td>\n",
       "      <td>No</td>\n",
       "      <td>No</td>\n",
       "      <td>Yes</td>\n",
       "      <td>Private</td>\n",
       "      <td>Urban</td>\n",
       "      <td>171.23</td>\n",
       "      <td>34.4</td>\n",
       "      <td>smokes</td>\n",
       "      <td>1</td>\n",
       "    </tr>\n",
       "    <tr>\n",
       "      <th>4</th>\n",
       "      <td>Female</td>\n",
       "      <td>79.0</td>\n",
       "      <td>Yes</td>\n",
       "      <td>No</td>\n",
       "      <td>Yes</td>\n",
       "      <td>Self-employed</td>\n",
       "      <td>Rural</td>\n",
       "      <td>174.12</td>\n",
       "      <td>24.0</td>\n",
       "      <td>never smoked</td>\n",
       "      <td>1</td>\n",
       "    </tr>\n",
       "  </tbody>\n",
       "</table>\n",
       "</div>"
      ],
      "text/plain": [
       "   gender   age hypertension heart_disease ever_married      work_type  \\\n",
       "0    Male  67.0           No           Yes          Yes        Private   \n",
       "1  Female  61.0           No            No          Yes  Self-employed   \n",
       "2    Male  80.0           No           Yes          Yes        Private   \n",
       "3  Female  49.0           No            No          Yes        Private   \n",
       "4  Female  79.0          Yes            No          Yes  Self-employed   \n",
       "\n",
       "  Residence_type  avg_glucose_level   bmi   smoking_status  stroke  \n",
       "0          Urban             228.69  36.6  formerly smoked       1  \n",
       "1          Rural             202.21   NaN     never smoked       1  \n",
       "2          Rural             105.92  32.5     never smoked       1  \n",
       "3          Urban             171.23  34.4           smokes       1  \n",
       "4          Rural             174.12  24.0     never smoked       1  "
      ]
     },
     "execution_count": 126,
     "metadata": {},
     "output_type": "execute_result"
    }
   ],
   "source": [
    "data.head()"
   ]
  },
  {
   "cell_type": "code",
   "execution_count": 127,
   "metadata": {},
   "outputs": [],
   "source": [
    "## List of All Categorical Columns\n",
    "\n",
    "categorical_col = ['gender','hypertension','heart_disease','ever_married', 'work_type','Residence_type','smoking_status']"
   ]
  },
  {
   "cell_type": "code",
   "execution_count": 128,
   "metadata": {},
   "outputs": [],
   "source": [
    "## More Info About Categorical Columns\n",
    "## Unique variables in Each Categorical Columns and their Frequency\n",
    "\n",
    "def more_info(data,arr):\n",
    "    for n, c in enumerate(arr):\n",
    "        print('Total number of unique values in',arr[n],'columns is',data[c].nunique(),'Its Unique values are',data[c].unique())\n",
    "        print(data[c].value_counts())\n",
    "        print('*'*100)"
   ]
  },
  {
   "cell_type": "code",
   "execution_count": 129,
   "metadata": {},
   "outputs": [
    {
     "name": "stdout",
     "output_type": "stream",
     "text": [
      "Total number of unique values in gender columns is 3 Its Unique values are ['Male' 'Female' 'Other']\n",
      "gender\n",
      "Female    2994\n",
      "Male      2115\n",
      "Other        1\n",
      "Name: count, dtype: int64\n",
      "****************************************************************************************************\n",
      "Total number of unique values in hypertension columns is 2 Its Unique values are ['No' 'Yes']\n",
      "hypertension\n",
      "No     4612\n",
      "Yes     498\n",
      "Name: count, dtype: int64\n",
      "****************************************************************************************************\n",
      "Total number of unique values in heart_disease columns is 2 Its Unique values are ['Yes' 'No']\n",
      "heart_disease\n",
      "No     4834\n",
      "Yes     276\n",
      "Name: count, dtype: int64\n",
      "****************************************************************************************************\n",
      "Total number of unique values in ever_married columns is 2 Its Unique values are ['Yes' 'No']\n",
      "ever_married\n",
      "Yes    3353\n",
      "No     1757\n",
      "Name: count, dtype: int64\n",
      "****************************************************************************************************\n",
      "Total number of unique values in work_type columns is 5 Its Unique values are ['Private' 'Self-employed' 'Govt_job' 'children' 'Never_worked']\n",
      "work_type\n",
      "Private          2925\n",
      "Self-employed     819\n",
      "children          687\n",
      "Govt_job          657\n",
      "Never_worked       22\n",
      "Name: count, dtype: int64\n",
      "****************************************************************************************************\n",
      "Total number of unique values in Residence_type columns is 2 Its Unique values are ['Urban' 'Rural']\n",
      "Residence_type\n",
      "Urban    2596\n",
      "Rural    2514\n",
      "Name: count, dtype: int64\n",
      "****************************************************************************************************\n",
      "Total number of unique values in smoking_status columns is 4 Its Unique values are ['formerly smoked' 'never smoked' 'smokes' 'Unknown']\n",
      "smoking_status\n",
      "never smoked       1892\n",
      "Unknown            1544\n",
      "formerly smoked     885\n",
      "smokes              789\n",
      "Name: count, dtype: int64\n",
      "****************************************************************************************************\n"
     ]
    }
   ],
   "source": [
    "more_info(data,categorical_col)"
   ]
  },
  {
   "cell_type": "code",
   "execution_count": 130,
   "metadata": {},
   "outputs": [],
   "source": [
    "## Info about Numerical Data\n",
    "## Range, Mean , Standard Deviation of Numerical Columns\n",
    "\n",
    "def info_about_data(data):\n",
    "    display('The total rows',data.shape[0], 'The total number of columns ',data.shape[1])\n",
    "    print(\"*\"*100)\n",
    "    display('Missing values in the data ',data.isnull().sum())\n",
    "    print('*'*100)\n",
    "    display('Descriptive Stat about data', data.describe())"
   ]
  },
  {
   "cell_type": "code",
   "execution_count": 131,
   "metadata": {},
   "outputs": [
    {
     "data": {
      "text/plain": [
       "'The total rows'"
      ]
     },
     "metadata": {},
     "output_type": "display_data"
    },
    {
     "data": {
      "text/plain": [
       "5110"
      ]
     },
     "metadata": {},
     "output_type": "display_data"
    },
    {
     "data": {
      "text/plain": [
       "'The total number of columns '"
      ]
     },
     "metadata": {},
     "output_type": "display_data"
    },
    {
     "data": {
      "text/plain": [
       "11"
      ]
     },
     "metadata": {},
     "output_type": "display_data"
    },
    {
     "name": "stdout",
     "output_type": "stream",
     "text": [
      "****************************************************************************************************\n"
     ]
    },
    {
     "data": {
      "text/plain": [
       "'Missing values in the data '"
      ]
     },
     "metadata": {},
     "output_type": "display_data"
    },
    {
     "data": {
      "text/plain": [
       "gender                 0\n",
       "age                    0\n",
       "hypertension           0\n",
       "heart_disease          0\n",
       "ever_married           0\n",
       "work_type              0\n",
       "Residence_type         0\n",
       "avg_glucose_level      0\n",
       "bmi                  201\n",
       "smoking_status         0\n",
       "stroke                 0\n",
       "dtype: int64"
      ]
     },
     "metadata": {},
     "output_type": "display_data"
    },
    {
     "name": "stdout",
     "output_type": "stream",
     "text": [
      "****************************************************************************************************\n"
     ]
    },
    {
     "data": {
      "text/plain": [
       "'Descriptive Stat about data'"
      ]
     },
     "metadata": {},
     "output_type": "display_data"
    },
    {
     "data": {
      "text/html": [
       "<div>\n",
       "<style scoped>\n",
       "    .dataframe tbody tr th:only-of-type {\n",
       "        vertical-align: middle;\n",
       "    }\n",
       "\n",
       "    .dataframe tbody tr th {\n",
       "        vertical-align: top;\n",
       "    }\n",
       "\n",
       "    .dataframe thead th {\n",
       "        text-align: right;\n",
       "    }\n",
       "</style>\n",
       "<table border=\"1\" class=\"dataframe\">\n",
       "  <thead>\n",
       "    <tr style=\"text-align: right;\">\n",
       "      <th></th>\n",
       "      <th>age</th>\n",
       "      <th>avg_glucose_level</th>\n",
       "      <th>bmi</th>\n",
       "      <th>stroke</th>\n",
       "    </tr>\n",
       "  </thead>\n",
       "  <tbody>\n",
       "    <tr>\n",
       "      <th>count</th>\n",
       "      <td>5110.000000</td>\n",
       "      <td>5110.000000</td>\n",
       "      <td>4909.000000</td>\n",
       "      <td>5110.000000</td>\n",
       "    </tr>\n",
       "    <tr>\n",
       "      <th>mean</th>\n",
       "      <td>43.226614</td>\n",
       "      <td>106.147677</td>\n",
       "      <td>28.893237</td>\n",
       "      <td>0.048728</td>\n",
       "    </tr>\n",
       "    <tr>\n",
       "      <th>std</th>\n",
       "      <td>22.612647</td>\n",
       "      <td>45.283560</td>\n",
       "      <td>7.854067</td>\n",
       "      <td>0.215320</td>\n",
       "    </tr>\n",
       "    <tr>\n",
       "      <th>min</th>\n",
       "      <td>0.080000</td>\n",
       "      <td>55.120000</td>\n",
       "      <td>10.300000</td>\n",
       "      <td>0.000000</td>\n",
       "    </tr>\n",
       "    <tr>\n",
       "      <th>25%</th>\n",
       "      <td>25.000000</td>\n",
       "      <td>77.245000</td>\n",
       "      <td>23.500000</td>\n",
       "      <td>0.000000</td>\n",
       "    </tr>\n",
       "    <tr>\n",
       "      <th>50%</th>\n",
       "      <td>45.000000</td>\n",
       "      <td>91.885000</td>\n",
       "      <td>28.100000</td>\n",
       "      <td>0.000000</td>\n",
       "    </tr>\n",
       "    <tr>\n",
       "      <th>75%</th>\n",
       "      <td>61.000000</td>\n",
       "      <td>114.090000</td>\n",
       "      <td>33.100000</td>\n",
       "      <td>0.000000</td>\n",
       "    </tr>\n",
       "    <tr>\n",
       "      <th>max</th>\n",
       "      <td>82.000000</td>\n",
       "      <td>271.740000</td>\n",
       "      <td>97.600000</td>\n",
       "      <td>1.000000</td>\n",
       "    </tr>\n",
       "  </tbody>\n",
       "</table>\n",
       "</div>"
      ],
      "text/plain": [
       "               age  avg_glucose_level          bmi       stroke\n",
       "count  5110.000000        5110.000000  4909.000000  5110.000000\n",
       "mean     43.226614         106.147677    28.893237     0.048728\n",
       "std      22.612647          45.283560     7.854067     0.215320\n",
       "min       0.080000          55.120000    10.300000     0.000000\n",
       "25%      25.000000          77.245000    23.500000     0.000000\n",
       "50%      45.000000          91.885000    28.100000     0.000000\n",
       "75%      61.000000         114.090000    33.100000     0.000000\n",
       "max      82.000000         271.740000    97.600000     1.000000"
      ]
     },
     "metadata": {},
     "output_type": "display_data"
    }
   ],
   "source": [
    "info_about_data(data)"
   ]
  },
  {
   "cell_type": "code",
   "execution_count": 132,
   "metadata": {},
   "outputs": [
    {
     "data": {
      "image/png": "[encoded data removed]",
      "text/plain": [
       "<Figure size 640x480 with 1 Axes>"
      ]
     },
     "metadata": {},
     "output_type": "display_data"
    }
   ],
   "source": [
    "## Dispersion of bmi\n",
    "\n",
    "sns.kdeplot(data['bmi']);"
   ]
  },
  {
   "cell_type": "code",
   "execution_count": 133,
   "metadata": {},
   "outputs": [],
   "source": [
    "## Impute the Median( bmi consists many outliers) Values in Place of Missing Values. \n",
    "\n",
    "data['bmi'].fillna((data['bmi'].median()), inplace=True)"
   ]
  },
  {
   "cell_type": "code",
   "execution_count": 134,
   "metadata": {},
   "outputs": [],
   "source": [
    "## Saved copy of a clean Data\n",
    "\n",
    "data.to_csv('clean_data.csv',index=False) "
   ]
  },
  {
   "cell_type": "code",
   "execution_count": 135,
   "metadata": {},
   "outputs": [
    {
     "ename": "ValueError",
     "evalue": "could not convert string to float: 'No'",
     "output_type": "error",
     "traceback": [
      "\u001b[1;31m---------------------------------------------------------------------------\u001b[0m",
      "\u001b[1;31mValueError\u001b[0m                                Traceback (most recent call last)",
      "Cell \u001b[1;32mIn[135], line 10\u001b[0m\n\u001b[0;32m      7\u001b[0m data_numeric \u001b[38;5;241m=\u001b[39m data_encoded\u001b[38;5;241m.\u001b[39mdrop(columns\u001b[38;5;241m=\u001b[39m[\u001b[38;5;124m'\u001b[39m\u001b[38;5;124mgender\u001b[39m\u001b[38;5;124m'\u001b[39m])\n\u001b[0;32m      9\u001b[0m \u001b[38;5;66;03m# Now, you can proceed with computing the correlation matrix\u001b[39;00m\n\u001b[1;32m---> 10\u001b[0m correlation_matrix \u001b[38;5;241m=\u001b[39m \u001b[43mdata_numeric\u001b[49m\u001b[38;5;241;43m.\u001b[39;49m\u001b[43mcorr\u001b[49m\u001b[43m(\u001b[49m\u001b[43m)\u001b[49m\n\u001b[0;32m     12\u001b[0m \u001b[38;5;66;03m# Visualize the correlation matrix\u001b[39;00m\n\u001b[0;32m     13\u001b[0m \u001b[38;5;28;01mimport\u001b[39;00m \u001b[38;5;21;01mseaborn\u001b[39;00m \u001b[38;5;28;01mas\u001b[39;00m \u001b[38;5;21;01msns\u001b[39;00m\n",
      "File \u001b[1;32m~\\AppData\\Local\\Programs\\Python\\Python311\\Lib\\site-packages\\pandas\\core\\frame.py:11036\u001b[0m, in \u001b[0;36mDataFrame.corr\u001b[1;34m(self, method, min_periods, numeric_only)\u001b[0m\n\u001b[0;32m  11034\u001b[0m cols \u001b[38;5;241m=\u001b[39m data\u001b[38;5;241m.\u001b[39mcolumns\n\u001b[0;32m  11035\u001b[0m idx \u001b[38;5;241m=\u001b[39m cols\u001b[38;5;241m.\u001b[39mcopy()\n\u001b[1;32m> 11036\u001b[0m mat \u001b[38;5;241m=\u001b[39m \u001b[43mdata\u001b[49m\u001b[38;5;241;43m.\u001b[39;49m\u001b[43mto_numpy\u001b[49m\u001b[43m(\u001b[49m\u001b[43mdtype\u001b[49m\u001b[38;5;241;43m=\u001b[39;49m\u001b[38;5;28;43mfloat\u001b[39;49m\u001b[43m,\u001b[49m\u001b[43m \u001b[49m\u001b[43mna_value\u001b[49m\u001b[38;5;241;43m=\u001b[39;49m\u001b[43mnp\u001b[49m\u001b[38;5;241;43m.\u001b[39;49m\u001b[43mnan\u001b[49m\u001b[43m,\u001b[49m\u001b[43m \u001b[49m\u001b[43mcopy\u001b[49m\u001b[38;5;241;43m=\u001b[39;49m\u001b[38;5;28;43;01mFalse\u001b[39;49;00m\u001b[43m)\u001b[49m\n\u001b[0;32m  11038\u001b[0m \u001b[38;5;28;01mif\u001b[39;00m method \u001b[38;5;241m==\u001b[39m \u001b[38;5;124m\"\u001b[39m\u001b[38;5;124mpearson\u001b[39m\u001b[38;5;124m\"\u001b[39m:\n\u001b[0;32m  11039\u001b[0m     correl \u001b[38;5;241m=\u001b[39m libalgos\u001b[38;5;241m.\u001b[39mnancorr(mat, minp\u001b[38;5;241m=\u001b[39mmin_periods)\n",
      "File \u001b[1;32m~\\AppData\\Local\\Programs\\Python\\Python311\\Lib\\site-packages\\pandas\\core\\frame.py:1981\u001b[0m, in \u001b[0;36mDataFrame.to_numpy\u001b[1;34m(self, dtype, copy, na_value)\u001b[0m\n\u001b[0;32m   1979\u001b[0m \u001b[38;5;28;01mif\u001b[39;00m dtype \u001b[38;5;129;01mis\u001b[39;00m \u001b[38;5;129;01mnot\u001b[39;00m \u001b[38;5;28;01mNone\u001b[39;00m:\n\u001b[0;32m   1980\u001b[0m     dtype \u001b[38;5;241m=\u001b[39m np\u001b[38;5;241m.\u001b[39mdtype(dtype)\n\u001b[1;32m-> 1981\u001b[0m result \u001b[38;5;241m=\u001b[39m \u001b[38;5;28;43mself\u001b[39;49m\u001b[38;5;241;43m.\u001b[39;49m\u001b[43m_mgr\u001b[49m\u001b[38;5;241;43m.\u001b[39;49m\u001b[43mas_array\u001b[49m\u001b[43m(\u001b[49m\u001b[43mdtype\u001b[49m\u001b[38;5;241;43m=\u001b[39;49m\u001b[43mdtype\u001b[49m\u001b[43m,\u001b[49m\u001b[43m \u001b[49m\u001b[43mcopy\u001b[49m\u001b[38;5;241;43m=\u001b[39;49m\u001b[43mcopy\u001b[49m\u001b[43m,\u001b[49m\u001b[43m \u001b[49m\u001b[43mna_value\u001b[49m\u001b[38;5;241;43m=\u001b[39;49m\u001b[43mna_value\u001b[49m\u001b[43m)\u001b[49m\n\u001b[0;32m   1982\u001b[0m \u001b[38;5;28;01mif\u001b[39;00m result\u001b[38;5;241m.\u001b[39mdtype \u001b[38;5;129;01mis\u001b[39;00m \u001b[38;5;129;01mnot\u001b[39;00m dtype:\n\u001b[0;32m   1983\u001b[0m     result \u001b[38;5;241m=\u001b[39m np\u001b[38;5;241m.\u001b[39marray(result, dtype\u001b[38;5;241m=\u001b[39mdtype, copy\u001b[38;5;241m=\u001b[39m\u001b[38;5;28;01mFalse\u001b[39;00m)\n",
      "File \u001b[1;32m~\\AppData\\Local\\Programs\\Python\\Python311\\Lib\\site-packages\\pandas\\core\\internals\\managers.py:1692\u001b[0m, in \u001b[0;36mBlockManager.as_array\u001b[1;34m(self, dtype, copy, na_value)\u001b[0m\n\u001b[0;32m   1690\u001b[0m         arr\u001b[38;5;241m.\u001b[39mflags\u001b[38;5;241m.\u001b[39mwriteable \u001b[38;5;241m=\u001b[39m \u001b[38;5;28;01mFalse\u001b[39;00m\n\u001b[0;32m   1691\u001b[0m \u001b[38;5;28;01melse\u001b[39;00m:\n\u001b[1;32m-> 1692\u001b[0m     arr \u001b[38;5;241m=\u001b[39m \u001b[38;5;28;43mself\u001b[39;49m\u001b[38;5;241;43m.\u001b[39;49m\u001b[43m_interleave\u001b[49m\u001b[43m(\u001b[49m\u001b[43mdtype\u001b[49m\u001b[38;5;241;43m=\u001b[39;49m\u001b[43mdtype\u001b[49m\u001b[43m,\u001b[49m\u001b[43m \u001b[49m\u001b[43mna_value\u001b[49m\u001b[38;5;241;43m=\u001b[39;49m\u001b[43mna_value\u001b[49m\u001b[43m)\u001b[49m\n\u001b[0;32m   1693\u001b[0m     \u001b[38;5;66;03m# The underlying data was copied within _interleave, so no need\u001b[39;00m\n\u001b[0;32m   1694\u001b[0m     \u001b[38;5;66;03m# to further copy if copy=True or setting na_value\u001b[39;00m\n\u001b[0;32m   1696\u001b[0m \u001b[38;5;28;01mif\u001b[39;00m na_value \u001b[38;5;129;01mis\u001b[39;00m lib\u001b[38;5;241m.\u001b[39mno_default:\n",
      "File \u001b[1;32m~\\AppData\\Local\\Programs\\Python\\Python311\\Lib\\site-packages\\pandas\\core\\internals\\managers.py:1751\u001b[0m, in \u001b[0;36mBlockManager._interleave\u001b[1;34m(self, dtype, na_value)\u001b[0m\n\u001b[0;32m   1749\u001b[0m     \u001b[38;5;28;01melse\u001b[39;00m:\n\u001b[0;32m   1750\u001b[0m         arr \u001b[38;5;241m=\u001b[39m blk\u001b[38;5;241m.\u001b[39mget_values(dtype)\n\u001b[1;32m-> 1751\u001b[0m     \u001b[43mresult\u001b[49m\u001b[43m[\u001b[49m\u001b[43mrl\u001b[49m\u001b[38;5;241;43m.\u001b[39;49m\u001b[43mindexer\u001b[49m\u001b[43m]\u001b[49m \u001b[38;5;241m=\u001b[39m arr\n\u001b[0;32m   1752\u001b[0m     itemmask[rl\u001b[38;5;241m.\u001b[39mindexer] \u001b[38;5;241m=\u001b[39m \u001b[38;5;241m1\u001b[39m\n\u001b[0;32m   1754\u001b[0m \u001b[38;5;28;01mif\u001b[39;00m \u001b[38;5;129;01mnot\u001b[39;00m itemmask\u001b[38;5;241m.\u001b[39mall():\n",
      "\u001b[1;31mValueError\u001b[0m: could not convert string to float: 'No'"
     ]
    }
   ],
   "source": [
    "# Perform one-hot encoding for categorical columns\n",
    "data_encoded = pd.get_dummies(data, columns=['ever_married', 'work_type', 'Residence_type', 'smoking_status'])\n",
    "\n",
    "# Drop non-numeric columns\n",
    "non_numeric_columns = ['ever_married_No']  # Adjust as necessary\n",
    "data_numeric = data_encoded.drop(columns=non_numeric_columns)\n",
    "\n",
    "# Now, you can proceed with computing the correlation matrix\n",
    "correlation_matrix = data_numeric.corr()\n",
    "\n",
    "# Visualize the correlation matrix\n",
    "import seaborn as sns\n",
    "import matplotlib.pyplot as plt\n",
    "\n",
    "sns.heatmap(correlation_matrix, annot=True, cmap='coolwarm', fmt=\".2f\")\n",
    "plt.show()\n"
   ]
  },
  {
   "cell_type": "code",
   "execution_count": null,
   "metadata": {},
   "outputs": [],
   "source": [
    "## Encoding Categorical Columns\n",
    "\n",
    "categorical_col = ['gender','hypertension','heart_disease', 'ever_married', 'work_type','Residence_type','smoking_status']\n",
    "for col in categorical_col:\n",
    "    dummy = pd.get_dummies(data[col],prefix=col)\n",
    "    data = pd.concat([data,dummy],axis=1)\n",
    "    del data[col]"
   ]
  },
  {
   "cell_type": "code",
   "execution_count": null,
   "metadata": {},
   "outputs": [],
   "source": [
    "data.head()"
   ]
  },
  {
   "cell_type": "code",
   "execution_count": null,
   "metadata": {},
   "outputs": [],
   "source": [
    "plt.figure(figsize=(20,10))\n",
    "sns.heatmap(data.corr(),annot=True)"
   ]
  },
  {
   "cell_type": "code",
   "execution_count": null,
   "metadata": {},
   "outputs": [],
   "source": [
    "data.info()"
   ]
  },
  {
   "cell_type": "code",
   "execution_count": null,
   "metadata": {},
   "outputs": [],
   "source": [
    "## Separate the Dependent Columns from Independent Columns\n",
    "X = data.drop(['stroke'],axis=1)\n",
    "y = data['stroke']"
   ]
  },
  {
   "cell_type": "code",
   "execution_count": null,
   "metadata": {},
   "outputs": [],
   "source": [
    "data.shape"
   ]
  },
  {
   "cell_type": "code",
   "execution_count": null,
   "metadata": {},
   "outputs": [],
   "source": [
    "from sklearn.model_selection import train_test_split\n",
    "X_train, X_test, y_train, y_test = train_test_split( X, y, test_size=0.2, random_state=42)"
   ]
  },
  {
   "cell_type": "markdown",
   "metadata": {},
   "source": [
    "## Feature Selection"
   ]
  },
  {
   "cell_type": "code",
   "execution_count": null,
   "metadata": {},
   "outputs": [],
   "source": [
    "## Feature Selection\n",
    "\n",
    "from sklearn.feature_selection import SelectKBest\n",
    "from sklearn.feature_selection import chi2"
   ]
  },
  {
   "cell_type": "code",
   "execution_count": null,
   "metadata": {},
   "outputs": [],
   "source": [
    "ordered_rank_features = SelectKBest(score_func=chi2,k=21)\n",
    "ordered_features = ordered_rank_features.fit(X,y)"
   ]
  },
  {
   "cell_type": "code",
   "execution_count": null,
   "metadata": {},
   "outputs": [],
   "source": [
    "data_scores = pd.DataFrame(ordered_features.scores_,columns=['Score'])\n",
    "data_columns = pd.DataFrame(X.columns)"
   ]
  },
  {
   "cell_type": "code",
   "execution_count": null,
   "metadata": {},
   "outputs": [],
   "source": [
    "feature_rank = pd.concat([data_columns, data_scores],axis=1)"
   ]
  },
  {
   "cell_type": "code",
   "execution_count": null,
   "metadata": {},
   "outputs": [],
   "source": [
    "feature_rank.columns=['Features','Score']\n",
    "feature_rank.sort_values(by='Score',ascending=False)"
   ]
  },
  {
   "cell_type": "markdown",
   "metadata": {},
   "source": [
    "## Feature Importance"
   ]
  },
  {
   "cell_type": "code",
   "execution_count": null,
   "metadata": {},
   "outputs": [],
   "source": [
    "### Feature Importance\n",
    "\n",
    "from sklearn.ensemble import ExtraTreesClassifier\n",
    "model = ExtraTreesClassifier()\n",
    "model.fit(X,y)"
   ]
  },
  {
   "cell_type": "code",
   "execution_count": null,
   "metadata": {},
   "outputs": [],
   "source": [
    "print(model.feature_importances_)"
   ]
  },
  {
   "cell_type": "code",
   "execution_count": null,
   "metadata": {},
   "outputs": [],
   "source": [
    "ranked_features = pd.Series(model.feature_importances_,index=X.columns)\n",
    "ranked_features.nlargest(21).plot(kind='bar')\n",
    "plt.show()"
   ]
  },
  {
   "cell_type": "markdown",
   "metadata": {},
   "source": [
    "### Training The Model  :"
   ]
  },
  {
   "cell_type": "code",
   "execution_count": null,
   "metadata": {},
   "outputs": [],
   "source": [
    "from sklearn.linear_model import LogisticRegression\n",
    "from sklearn.tree import DecisionTreeClassifier\n",
    "from sklearn.ensemble import RandomForestClassifier\n",
    "from xgboost import XGBClassifier\n",
    "from lightgbm import LGBMClassifier\n",
    "from catboost import CatBoostClassifier"
   ]
  },
  {
   "cell_type": "code",
   "execution_count": null,
   "metadata": {},
   "outputs": [],
   "source": [
    "\n",
    "lr_clf = LogisticRegression()\n",
    "dtr_clf = DecisionTreeClassifier()\n",
    "rfr_clf = RandomForestClassifier()\n",
    "xgb_clf = XGBClassifier()\n",
    "lgb_clf = LGBMClassifier()\n",
    "cat_clf = CatBoostClassifier()\n",
    "\n",
    "ml_models = [lr_clf, dtr_clf, rfr_clf, xgb_clf, lgb_clf, cat_clf]"
   ]
  },
  {
   "cell_type": "code",
   "execution_count": null,
   "metadata": {},
   "outputs": [],
   "source": [
    "best_accuracies = 0.0\n",
    "best_regressor = 0\n",
    "\n",
    "model_dict = {0: 'LogisticRegression', 1: 'DecisionTreeRegressor', 2: 'RandomForestRegressor', 3: 'Xgboost', 4: 'LightGBM', 5: 'CatBoost'}"
   ]
  },
  {
   "cell_type": "code",
   "execution_count": null,
   "metadata": {},
   "outputs": [
    {
     "name": "stdout",
     "output_type": "stream",
     "text": [
      "778:\tlearn: 0.0612391\ttotal: 2.45s\tremaining: 696ms\n",
      "779:\tlearn: 0.0611995\ttotal: 2.46s\tremaining: 693ms\n",
      "780:\tlearn: 0.0611238\ttotal: 2.46s\tremaining: 690ms\n",
      "781:\tlearn: 0.0610925\ttotal: 2.46s\tremaining: 687ms\n",
      "782:\tlearn: 0.0609753\ttotal: 2.47s\tremaining: 684ms\n",
      "783:\tlearn: 0.0609433\ttotal: 2.47s\tremaining: 680ms\n",
      "784:\tlearn: 0.0608505\ttotal: 2.47s\tremaining: 677ms\n",
      "785:\tlearn: 0.0608087\ttotal: 2.47s\tremaining: 674ms\n",
      "786:\tlearn: 0.0607533\ttotal: 2.48s\tremaining: 671ms\n",
      "787:\tlearn: 0.0606752\ttotal: 2.48s\tremaining: 667ms\n",
      "788:\tlearn: 0.0606096\ttotal: 2.48s\tremaining: 664ms\n",
      "789:\tlearn: 0.0605350\ttotal: 2.48s\tremaining: 661ms\n",
      "790:\tlearn: 0.0604616\ttotal: 2.49s\tremaining: 657ms\n",
      "791:\tlearn: 0.0604177\ttotal: 2.49s\tremaining: 654ms\n",
      "792:\tlearn: 0.0603983\ttotal: 2.49s\tremaining: 651ms\n",
      "793:\tlearn: 0.0603499\ttotal: 2.5s\tremaining: 648ms\n",
      "794:\tlearn: 0.0603032\ttotal: 2.5s\tremaining: 644ms\n",
      "795:\tlearn: 0.0602707\ttotal: 2.5s\tremaining: 641ms\n",
      "796:\tlearn: 0.0601962\ttotal: 2.5s\tremaining: 638ms\n",
      "797:\tlearn: 0.0601472\ttotal: 2.51s\tremaining: 634ms\n",
      "798:\tlearn: 0.0601114\ttotal: 2.51s\tremaining: 631ms\n",
      "799:\tlearn: 0.0600308\ttotal: 2.51s\tremaining: 628ms\n",
      "800:\tlearn: 0.0599841\ttotal: 2.51s\tremaining: 625ms\n",
      "801:\tlearn: 0.0599542\ttotal: 2.52s\tremaining: 621ms\n",
      "802:\tlearn: 0.0599491\ttotal: 2.52s\tremaining: 618ms\n",
      "803:\tlearn: 0.0599045\ttotal: 2.52s\tremaining: 615ms\n",
      "804:\tlearn: 0.0598704\ttotal: 2.52s\tremaining: 612ms\n",
      "805:\tlearn: 0.0597601\ttotal: 2.53s\tremaining: 608ms\n",
      "806:\tlearn: 0.0597020\ttotal: 2.53s\tremaining: 605ms\n",
      "807:\tlearn: 0.0596688\ttotal: 2.53s\tremaining: 602ms\n",
      "808:\tlearn: 0.0596077\ttotal: 2.54s\tremaining: 599ms\n",
      "809:\tlearn: 0.0595513\ttotal: 2.54s\tremaining: 595ms\n",
      "810:\tlearn: 0.0595192\ttotal: 2.54s\tremaining: 592ms\n",
      "811:\tlearn: 0.0594645\ttotal: 2.54s\tremaining: 589ms\n",
      "812:\tlearn: 0.0593929\ttotal: 2.55s\tremaining: 586ms\n",
      "813:\tlearn: 0.0593627\ttotal: 2.55s\tremaining: 582ms\n",
      "814:\tlearn: 0.0593118\ttotal: 2.55s\tremaining: 579ms\n",
      "815:\tlearn: 0.0592423\ttotal: 2.55s\tremaining: 576ms\n",
      "816:\tlearn: 0.0592301\ttotal: 2.56s\tremaining: 573ms\n",
      "817:\tlearn: 0.0591886\ttotal: 2.56s\tremaining: 569ms\n",
      "818:\tlearn: 0.0591183\ttotal: 2.56s\tremaining: 566ms\n",
      "819:\tlearn: 0.0590851\ttotal: 2.56s\tremaining: 563ms\n",
      "820:\tlearn: 0.0590053\ttotal: 2.57s\tremaining: 560ms\n",
      "821:\tlearn: 0.0589462\ttotal: 2.57s\tremaining: 556ms\n",
      "822:\tlearn: 0.0588880\ttotal: 2.57s\tremaining: 553ms\n",
      "823:\tlearn: 0.0588132\ttotal: 2.57s\tremaining: 550ms\n",
      "824:\tlearn: 0.0587136\ttotal: 2.58s\tremaining: 547ms\n",
      "825:\tlearn: 0.0586641\ttotal: 2.58s\tremaining: 543ms\n",
      "826:\tlearn: 0.0585999\ttotal: 2.58s\tremaining: 540ms\n",
      "827:\tlearn: 0.0585402\ttotal: 2.58s\tremaining: 537ms\n",
      "828:\tlearn: 0.0584851\ttotal: 2.59s\tremaining: 534ms\n",
      "829:\tlearn: 0.0584381\ttotal: 2.59s\tremaining: 531ms\n",
      "830:\tlearn: 0.0584094\ttotal: 2.59s\tremaining: 527ms\n",
      "831:\tlearn: 0.0583693\ttotal: 2.6s\tremaining: 524ms\n",
      "832:\tlearn: 0.0583395\ttotal: 2.6s\tremaining: 521ms\n",
      "833:\tlearn: 0.0583223\ttotal: 2.6s\tremaining: 518ms\n",
      "834:\tlearn: 0.0582908\ttotal: 2.6s\tremaining: 515ms\n",
      "835:\tlearn: 0.0582301\ttotal: 2.61s\tremaining: 511ms\n",
      "836:\tlearn: 0.0581921\ttotal: 2.61s\tremaining: 508ms\n",
      "837:\tlearn: 0.0581874\ttotal: 2.61s\tremaining: 505ms\n",
      "838:\tlearn: 0.0581458\ttotal: 2.61s\tremaining: 502ms\n",
      "839:\tlearn: 0.0580946\ttotal: 2.62s\tremaining: 499ms\n",
      "840:\tlearn: 0.0580555\ttotal: 2.62s\tremaining: 496ms\n",
      "841:\tlearn: 0.0580157\ttotal: 2.62s\tremaining: 492ms\n",
      "842:\tlearn: 0.0579407\ttotal: 2.63s\tremaining: 489ms\n",
      "843:\tlearn: 0.0579223\ttotal: 2.63s\tremaining: 486ms\n",
      "844:\tlearn: 0.0578625\ttotal: 2.63s\tremaining: 483ms\n",
      "845:\tlearn: 0.0577945\ttotal: 2.64s\tremaining: 480ms\n",
      "846:\tlearn: 0.0577342\ttotal: 2.64s\tremaining: 477ms\n",
      "847:\tlearn: 0.0576922\ttotal: 2.64s\tremaining: 474ms\n",
      "848:\tlearn: 0.0576335\ttotal: 2.65s\tremaining: 471ms\n",
      "849:\tlearn: 0.0575732\ttotal: 2.65s\tremaining: 468ms\n",
      "850:\tlearn: 0.0575468\ttotal: 2.65s\tremaining: 464ms\n",
      "851:\tlearn: 0.0574812\ttotal: 2.65s\tremaining: 461ms\n",
      "852:\tlearn: 0.0574407\ttotal: 2.66s\tremaining: 458ms\n",
      "853:\tlearn: 0.0573792\ttotal: 2.66s\tremaining: 455ms\n",
      "854:\tlearn: 0.0573519\ttotal: 2.66s\tremaining: 452ms\n",
      "855:\tlearn: 0.0572505\ttotal: 2.67s\tremaining: 448ms\n",
      "856:\tlearn: 0.0572006\ttotal: 2.67s\tremaining: 445ms\n",
      "857:\tlearn: 0.0571443\ttotal: 2.67s\tremaining: 442ms\n",
      "858:\tlearn: 0.0570980\ttotal: 2.67s\tremaining: 439ms\n",
      "859:\tlearn: 0.0570088\ttotal: 2.68s\tremaining: 436ms\n",
      "860:\tlearn: 0.0569795\ttotal: 2.68s\tremaining: 433ms\n",
      "861:\tlearn: 0.0569347\ttotal: 2.68s\tremaining: 429ms\n",
      "862:\tlearn: 0.0568859\ttotal: 2.68s\tremaining: 426ms\n",
      "863:\tlearn: 0.0568314\ttotal: 2.69s\tremaining: 423ms\n",
      "864:\tlearn: 0.0567872\ttotal: 2.69s\tremaining: 420ms\n",
      "865:\tlearn: 0.0567276\ttotal: 2.69s\tremaining: 417ms\n",
      "866:\tlearn: 0.0566309\ttotal: 2.69s\tremaining: 414ms\n",
      "867:\tlearn: 0.0566098\ttotal: 2.7s\tremaining: 410ms\n",
      "868:\tlearn: 0.0565572\ttotal: 2.7s\tremaining: 407ms\n",
      "869:\tlearn: 0.0565290\ttotal: 2.7s\tremaining: 404ms\n",
      "870:\tlearn: 0.0564759\ttotal: 2.71s\tremaining: 401ms\n",
      "871:\tlearn: 0.0564596\ttotal: 2.71s\tremaining: 398ms\n",
      "872:\tlearn: 0.0563981\ttotal: 2.71s\tremaining: 395ms\n",
      "873:\tlearn: 0.0563332\ttotal: 2.71s\tremaining: 391ms\n",
      "874:\tlearn: 0.0562948\ttotal: 2.72s\tremaining: 388ms\n",
      "875:\tlearn: 0.0562447\ttotal: 2.72s\tremaining: 385ms\n",
      "876:\tlearn: 0.0561929\ttotal: 2.72s\tremaining: 382ms\n",
      "877:\tlearn: 0.0561572\ttotal: 2.73s\tremaining: 379ms\n",
      "878:\tlearn: 0.0561319\ttotal: 2.73s\tremaining: 376ms\n",
      "879:\tlearn: 0.0560657\ttotal: 2.73s\tremaining: 372ms\n",
      "880:\tlearn: 0.0560413\ttotal: 2.73s\tremaining: 369ms\n",
      "881:\tlearn: 0.0559798\ttotal: 2.74s\tremaining: 366ms\n",
      "882:\tlearn: 0.0559293\ttotal: 2.74s\tremaining: 363ms\n",
      "883:\tlearn: 0.0558771\ttotal: 2.74s\tremaining: 360ms\n",
      "884:\tlearn: 0.0558049\ttotal: 2.75s\tremaining: 357ms\n",
      "885:\tlearn: 0.0557622\ttotal: 2.75s\tremaining: 354ms\n",
      "886:\tlearn: 0.0556994\ttotal: 2.75s\tremaining: 350ms\n",
      "887:\tlearn: 0.0556670\ttotal: 2.75s\tremaining: 347ms\n",
      "888:\tlearn: 0.0556377\ttotal: 2.75s\tremaining: 344ms\n",
      "889:\tlearn: 0.0556131\ttotal: 2.76s\tremaining: 341ms\n",
      "890:\tlearn: 0.0555870\ttotal: 2.76s\tremaining: 338ms\n",
      "891:\tlearn: 0.0555572\ttotal: 2.76s\tremaining: 335ms\n",
      "892:\tlearn: 0.0555173\ttotal: 2.77s\tremaining: 331ms\n",
      "893:\tlearn: 0.0554549\ttotal: 2.77s\tremaining: 328ms\n",
      "894:\tlearn: 0.0553960\ttotal: 2.77s\tremaining: 325ms\n",
      "895:\tlearn: 0.0553548\ttotal: 2.77s\tremaining: 322ms\n",
      "896:\tlearn: 0.0553392\ttotal: 2.78s\tremaining: 319ms\n",
      "897:\tlearn: 0.0552397\ttotal: 2.78s\tremaining: 316ms\n",
      "898:\tlearn: 0.0552129\ttotal: 2.78s\tremaining: 313ms\n",
      "899:\tlearn: 0.0551485\ttotal: 2.79s\tremaining: 310ms\n",
      "900:\tlearn: 0.0550948\ttotal: 2.79s\tremaining: 306ms\n",
      "901:\tlearn: 0.0550689\ttotal: 2.79s\tremaining: 303ms\n",
      "902:\tlearn: 0.0550352\ttotal: 2.79s\tremaining: 300ms\n",
      "903:\tlearn: 0.0550101\ttotal: 2.8s\tremaining: 297ms\n",
      "904:\tlearn: 0.0549505\ttotal: 2.8s\tremaining: 294ms\n",
      "905:\tlearn: 0.0548791\ttotal: 2.8s\tremaining: 291ms\n",
      "906:\tlearn: 0.0548496\ttotal: 2.81s\tremaining: 288ms\n",
      "907:\tlearn: 0.0547887\ttotal: 2.81s\tremaining: 285ms\n",
      "908:\tlearn: 0.0547485\ttotal: 2.81s\tremaining: 281ms\n",
      "909:\tlearn: 0.0547242\ttotal: 2.81s\tremaining: 278ms\n",
      "910:\tlearn: 0.0546257\ttotal: 2.82s\tremaining: 275ms\n",
      "911:\tlearn: 0.0545746\ttotal: 2.82s\tremaining: 272ms\n",
      "912:\tlearn: 0.0545712\ttotal: 2.82s\tremaining: 269ms\n",
      "913:\tlearn: 0.0545130\ttotal: 2.82s\tremaining: 266ms\n",
      "914:\tlearn: 0.0544378\ttotal: 2.83s\tremaining: 263ms\n",
      "915:\tlearn: 0.0543908\ttotal: 2.83s\tremaining: 260ms\n",
      "916:\tlearn: 0.0543319\ttotal: 2.83s\tremaining: 256ms\n",
      "917:\tlearn: 0.0543095\ttotal: 2.83s\tremaining: 253ms\n",
      "918:\tlearn: 0.0542819\ttotal: 2.84s\tremaining: 250ms\n",
      "919:\tlearn: 0.0542492\ttotal: 2.84s\tremaining: 247ms\n",
      "920:\tlearn: 0.0541811\ttotal: 2.84s\tremaining: 244ms\n",
      "921:\tlearn: 0.0541769\ttotal: 2.85s\tremaining: 241ms\n",
      "922:\tlearn: 0.0541729\ttotal: 2.85s\tremaining: 238ms\n",
      "923:\tlearn: 0.0541605\ttotal: 2.85s\tremaining: 235ms\n",
      "924:\tlearn: 0.0541370\ttotal: 2.85s\tremaining: 231ms\n",
      "925:\tlearn: 0.0540844\ttotal: 2.86s\tremaining: 228ms\n",
      "926:\tlearn: 0.0540556\ttotal: 2.86s\tremaining: 225ms\n",
      "927:\tlearn: 0.0540244\ttotal: 2.86s\tremaining: 222ms\n",
      "928:\tlearn: 0.0539674\ttotal: 2.87s\tremaining: 219ms\n",
      "929:\tlearn: 0.0539168\ttotal: 2.87s\tremaining: 216ms\n",
      "930:\tlearn: 0.0538499\ttotal: 2.87s\tremaining: 213ms\n",
      "931:\tlearn: 0.0538251\ttotal: 2.87s\tremaining: 210ms\n",
      "932:\tlearn: 0.0537589\ttotal: 2.88s\tremaining: 207ms\n",
      "933:\tlearn: 0.0537183\ttotal: 2.88s\tremaining: 203ms\n",
      "934:\tlearn: 0.0536475\ttotal: 2.88s\tremaining: 200ms\n",
      "935:\tlearn: 0.0535898\ttotal: 2.88s\tremaining: 197ms\n",
      "936:\tlearn: 0.0535258\ttotal: 2.89s\tremaining: 194ms\n",
      "937:\tlearn: 0.0535038\ttotal: 2.89s\tremaining: 191ms\n",
      "938:\tlearn: 0.0534349\ttotal: 2.89s\tremaining: 188ms\n",
      "939:\tlearn: 0.0533748\ttotal: 2.9s\tremaining: 185ms\n",
      "940:\tlearn: 0.0533361\ttotal: 2.9s\tremaining: 182ms\n",
      "941:\tlearn: 0.0533057\ttotal: 2.9s\tremaining: 179ms\n",
      "942:\tlearn: 0.0532627\ttotal: 2.9s\tremaining: 176ms\n",
      "943:\tlearn: 0.0532357\ttotal: 2.91s\tremaining: 173ms\n",
      "944:\tlearn: 0.0532080\ttotal: 2.91s\tremaining: 169ms\n",
      "945:\tlearn: 0.0531651\ttotal: 2.91s\tremaining: 166ms\n",
      "946:\tlearn: 0.0531103\ttotal: 2.92s\tremaining: 163ms\n",
      "947:\tlearn: 0.0530531\ttotal: 2.92s\tremaining: 160ms\n",
      "948:\tlearn: 0.0530025\ttotal: 2.92s\tremaining: 157ms\n",
      "949:\tlearn: 0.0529817\ttotal: 2.92s\tremaining: 154ms\n",
      "950:\tlearn: 0.0529594\ttotal: 2.93s\tremaining: 151ms\n",
      "951:\tlearn: 0.0528681\ttotal: 2.93s\tremaining: 148ms\n",
      "952:\tlearn: 0.0528316\ttotal: 2.93s\tremaining: 145ms\n",
      "953:\tlearn: 0.0527781\ttotal: 2.94s\tremaining: 142ms\n",
      "954:\tlearn: 0.0527546\ttotal: 2.94s\tremaining: 138ms\n",
      "955:\tlearn: 0.0527128\ttotal: 2.94s\tremaining: 135ms\n",
      "956:\tlearn: 0.0526683\ttotal: 2.94s\tremaining: 132ms\n",
      "957:\tlearn: 0.0526437\ttotal: 2.95s\tremaining: 129ms\n",
      "958:\tlearn: 0.0526226\ttotal: 2.95s\tremaining: 126ms\n",
      "959:\tlearn: 0.0525851\ttotal: 2.95s\tremaining: 123ms\n",
      "960:\tlearn: 0.0525644\ttotal: 2.95s\tremaining: 120ms\n",
      "961:\tlearn: 0.0525003\ttotal: 2.96s\tremaining: 117ms\n",
      "962:\tlearn: 0.0524574\ttotal: 2.96s\tremaining: 114ms\n",
      "963:\tlearn: 0.0524191\ttotal: 2.96s\tremaining: 111ms\n",
      "964:\tlearn: 0.0523922\ttotal: 2.96s\tremaining: 108ms\n",
      "965:\tlearn: 0.0523378\ttotal: 2.97s\tremaining: 104ms\n",
      "966:\tlearn: 0.0522952\ttotal: 2.97s\tremaining: 101ms\n",
      "967:\tlearn: 0.0522736\ttotal: 2.97s\tremaining: 98.3ms\n"
     ]
    },
    {
     "name": "stdout",
     "output_type": "stream",
     "text": [
      "968:\tlearn: 0.0522123\ttotal: 2.98s\tremaining: 95.2ms\n",
      "969:\tlearn: 0.0521758\ttotal: 2.98s\tremaining: 92.2ms\n",
      "970:\tlearn: 0.0520844\ttotal: 2.98s\tremaining: 89.1ms\n",
      "971:\tlearn: 0.0520588\ttotal: 2.98s\tremaining: 86ms\n",
      "972:\tlearn: 0.0520253\ttotal: 2.99s\tremaining: 82.9ms\n",
      "973:\tlearn: 0.0520017\ttotal: 2.99s\tremaining: 79.8ms\n",
      "974:\tlearn: 0.0519588\ttotal: 2.99s\tremaining: 76.8ms\n",
      "975:\tlearn: 0.0518960\ttotal: 3s\tremaining: 73.7ms\n",
      "976:\tlearn: 0.0518485\ttotal: 3s\tremaining: 70.6ms\n",
      "977:\tlearn: 0.0517642\ttotal: 3s\tremaining: 67.5ms\n",
      "978:\tlearn: 0.0517274\ttotal: 3s\tremaining: 64.5ms\n",
      "979:\tlearn: 0.0516956\ttotal: 3.01s\tremaining: 61.4ms\n",
      "980:\tlearn: 0.0516761\ttotal: 3.01s\tremaining: 58.3ms\n",
      "981:\tlearn: 0.0516575\ttotal: 3.01s\tremaining: 55.2ms\n",
      "982:\tlearn: 0.0515944\ttotal: 3.02s\tremaining: 52.1ms\n",
      "983:\tlearn: 0.0515717\ttotal: 3.02s\tremaining: 49.1ms\n",
      "984:\tlearn: 0.0515255\ttotal: 3.02s\tremaining: 46ms\n",
      "985:\tlearn: 0.0514725\ttotal: 3.02s\tremaining: 42.9ms\n",
      "986:\tlearn: 0.0514349\ttotal: 3.03s\tremaining: 39.9ms\n",
      "987:\tlearn: 0.0513698\ttotal: 3.03s\tremaining: 36.8ms\n",
      "988:\tlearn: 0.0513216\ttotal: 3.03s\tremaining: 33.7ms\n",
      "989:\tlearn: 0.0512992\ttotal: 3.03s\tremaining: 30.6ms\n",
      "990:\tlearn: 0.0512640\ttotal: 3.04s\tremaining: 27.6ms\n",
      "991:\tlearn: 0.0512508\ttotal: 3.04s\tremaining: 24.5ms\n",
      "992:\tlearn: 0.0512065\ttotal: 3.04s\tremaining: 21.4ms\n",
      "993:\tlearn: 0.0511554\ttotal: 3.04s\tremaining: 18.4ms\n",
      "994:\tlearn: 0.0511214\ttotal: 3.05s\tremaining: 15.3ms\n",
      "995:\tlearn: 0.0510719\ttotal: 3.05s\tremaining: 12.3ms\n",
      "996:\tlearn: 0.0510534\ttotal: 3.05s\tremaining: 9.19ms\n",
      "997:\tlearn: 0.0510107\ttotal: 3.06s\tremaining: 6.12ms\n",
      "998:\tlearn: 0.0510068\ttotal: 3.06s\tremaining: 3.06ms\n",
      "999:\tlearn: 0.0509770\ttotal: 3.06s\tremaining: 0us\n"
     ]
    }
   ],
   "source": [
    "for model in ml_models:\n",
    "    model.fit(X_train, y_train)"
   ]
  },
  {
   "cell_type": "code",
   "execution_count": null,
   "metadata": {},
   "outputs": [],
   "source": [
    "for i, models in enumerate(ml_models):\n",
    "    print( model_dict[i], models.score(X_test, y_test)) "
   ]
  },
  {
   "cell_type": "code",
   "execution_count": null,
   "metadata": {},
   "outputs": [],
   "source": [
    "## Classification Metrics"
   ]
  },
  {
   "cell_type": "code",
   "execution_count": null,
   "metadata": {},
   "outputs": [],
   "source": [
    "y_pred = lr_clf.predict(X_test) ## Logistic Regression"
   ]
  },
  {
   "cell_type": "code",
   "execution_count": null,
   "metadata": {},
   "outputs": [],
   "source": [
    "from sklearn.metrics import confusion_matrix, accuracy_score\n",
    "cm = confusion_matrix(y_pred,y_test)\n",
    "print(cm)\n",
    "acc_score = accuracy_score(y_pred,y_test)\n",
    "print(acc_score)"
   ]
  },
  {
   "cell_type": "code",
   "execution_count": null,
   "metadata": {},
   "outputs": [],
   "source": [
    "## Cross Validation Score\n",
    "\n",
    "from sklearn.model_selection import cross_val_score\n",
    "crv = cross_val_score(lr_clf,X,y,cv=10)\n"
   ]
  },
  {
   "cell_type": "code",
   "execution_count": null,
   "metadata": {},
   "outputs": [],
   "source": [
    "print('Score after Cross Validation is ',crv.mean())"
   ]
  },
  {
   "cell_type": "code",
   "execution_count": null,
   "metadata": {},
   "outputs": [],
   "source": [
    "## Stratified K fold Cross Validation"
   ]
  },
  {
   "cell_type": "code",
   "execution_count": null,
   "metadata": {},
   "outputs": [],
   "source": [
    "from sklearn.model_selection import StratifiedKFold"
   ]
  },
  {
   "cell_type": "code",
   "execution_count": null,
   "metadata": {},
   "outputs": [],
   "source": [
    "accuracy = []\n",
    "skf = StratifiedKFold(n_splits=5, random_state=None)\n",
    "skf.get_n_splits(X,y)\n",
    "\n",
    "for train_index, test_index in skf.split(X,y):\n",
    "    print('Train',train_index,'Validation',test_index)\n",
    "    X1_train, X1_test = X.iloc[train_index], X.iloc[test_index]\n",
    "    y1_train, y1_test = y.iloc[train_index], y.iloc[test_index]\n",
    "    \n",
    "    lr_clf.fit(X1_train,y1_train)\n",
    "    predictions = lr_clf.predict(X1_test)\n",
    "    score = accuracy_score(predictions,y1_test)\n",
    "    accuracy.append(score)\n",
    "    \n",
    "print(accuracy)"
   ]
  },
  {
   "cell_type": "code",
   "execution_count": null,
   "metadata": {},
   "outputs": [],
   "source": [
    "print('Score after Stratified Cross Validation is ',np.array(accuracy).mean())"
   ]
  },
  {
   "cell_type": "code",
   "execution_count": null,
   "metadata": {},
   "outputs": [],
   "source": [
    "model = lr_clf ## LogisticRegression"
   ]
  },
  {
   "cell_type": "code",
   "execution_count": null,
   "metadata": {},
   "outputs": [],
   "source": [
    "import pickle"
   ]
  },
  {
   "cell_type": "code",
   "execution_count": null,
   "metadata": {},
   "outputs": [],
   "source": [
    "pickle_out = open(\"model.pkl\", \"wb\") \n",
    "pickle.dump(model, pickle_out) \n",
    "pickle_out.close()"
   ]
  },
  {
   "cell_type": "code",
   "execution_count": null,
   "metadata": {},
   "outputs": [],
   "source": []
  }
 ],
 "metadata": {
  "kernelspec": {
   "display_name": "Python 3 (ipykernel)",
   "language": "python",
   "name": "python3"
  },
  "language_info": {
   "codemirror_mode": {
    "name": "ipython",
    "version": 3
   },
   "file_extension": ".py",
   "mimetype": "text/x-python",
   "name": "python",
   "nbconvert_exporter": "python",
   "pygments_lexer": "ipython3",
   "version": "3.11.8"
  }
 },
 "nbformat": 4,
 "nbformat_minor": 4
}
